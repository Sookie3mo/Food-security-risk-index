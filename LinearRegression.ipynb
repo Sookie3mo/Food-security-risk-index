{
 "cells": [
  {
   "cell_type": "markdown",
   "metadata": {
    "deletable": true,
    "editable": true
   },
   "source": [
    "# The program of linear regression"
   ]
  },
  {
   "cell_type": "markdown",
   "metadata": {
    "deletable": true,
    "editable": true
   },
   "source": [
    "## Training data set\n",
    "### We selected 11 features to describe one year's data for a country, and used Global Hunger Index (GHI) as label data.\n",
    "\n",
    "### Features considered\n",
    "### 1. Population movement\n",
    "### &emsp;&emsp;- Population Growth - Change in rate actual number is good \n",
    "### &emsp;&emsp;- Tourism / Visas in/out \n",
    "\n",
    "### 2. Climate (Check NOAA.gov site for widespread data)\t\n",
    "### &emsp;&emsp;- Occurrence of natural disasters:  floods, droughts, earthquake: http://www.emdat.be/database\n",
    "### &emsp;&emsp;- Land ( agricultural area, soil type): http://www.fao.org/faostat/en/#data/RL\n",
    "\n",
    "### 3. Trade / Economics\n",
    "### &emsp;&emsp;- MSCI(monthly): https://www.msci.com/en/end-of-day-data-search\n",
    "### &emsp;&emsp;- Economic Freedom Index: http://www.heritage.org/index/\n",
    "### &emsp;&emsp;- Food Price Index (FAO.org Statistics): http://www.fao.org/faostat/en/#data/FS\n",
    "\n",
    "### 4. Food Stress index)\n",
    "### &emsp;&emsp;- Per capita food production variability(USD per person)\n",
    "### &emsp;&emsp;- Food Access\n",
    "#### &emsp;&emsp;&emsp;> Percentage of Paved Roads\n",
    "#### &emsp;&emsp;&emsp;> Road Density\n",
    "#### &emsp;&emsp;&emsp;> Rail line density per 100 square km of land area\n"
   ]
  },
  {
   "cell_type": "markdown",
   "metadata": {},
   "source": [
    "### The example data is as follow:\n",
    " | year | popu_growth | tourism | disaster | land\t| msci | economic_freedom\t| food_price | capita_production | paved_road | road_density | rail_line | GHI |\n",
    " | ---- | ---- | ---- | ---- | ---- | ---- | ---- | ---- | ---- | ---- | ---- | ---- | ----| ---- |\n",
    " |2003 | 0.97 | 5903000 | 2 | 30041 | 185.9475 | 56.7 | 5.45 | 15200 | 56.9 | 12.9 | 0.4 | 6.4 |"
   ]
  },
  {
   "cell_type": "code",
   "execution_count": 6,
   "metadata": {
    "collapsed": false,
    "deletable": true,
    "editable": true
   },
   "outputs": [
    {
     "name": "stdout",
     "output_type": "stream",
     "text": [
      "<bound method LinearRegression.get_params of LinearRegression(copy_X=True, fit_intercept=True, n_jobs=1, normalize=False)>\n",
      "('score =', 0.99228738329541855)\n",
      "('W=', array([   9.39903755,    2.25455302,    1.85190233,   22.66776368,\n",
      "         -1.96410922,   16.11119   ,   -4.56043802,    5.95165782,\n",
      "         14.48453394, -458.98465133, -205.04612532]))\n"
     ]
    }
   ],
   "source": [
    "'''\n",
    "Created on Mar 26, 2017\n",
    "\n",
    "@author: Cheng-lin Li\n",
    "'''\n",
    "import sys\n",
    "import numpy as np\n",
    "import math\n",
    "import matplotlib.pyplot as plt\n",
    "from mpl_toolkits.mplot3d import Axes3D\n",
    "from sklearn.linear_model import LinearRegression\n",
    "\n",
    "\n",
    "    "
   ]
  },
  {
   "cell_type": "markdown",
   "metadata": {},
   "source": [
    "### We used scikit-learn library and called the Linear Regression function to apply on training data, and get a result of weighting array. The weight represents importance / influence of each feature. (e.g. weight of population_growth is 9.399)"
   ]
  },
  {
   "cell_type": "code",
   "execution_count": null,
   "metadata": {
    "collapsed": true
   },
   "outputs": [],
   "source": [
    "INPUT_FILE = '/home/dianba/summarize2.csv' #Default input file name\n",
    "ORIG_STDOUT = None\n",
    "#OUTPUT_FILE = 'output.txt' # OUTPUT_FILE COULD BE 'OUTPUT_FILE = None' for console or file name (e.g. 'OUTPUT_FILE = 'output.txt') for file.'\n",
    "OUTPUT_FILE = None # OUTPUT_FILE COULD BE 'OUTPUT_FILE = None' for console or file name (e.g. 'OUTPUT_FILE = 'output.txt') for file.'\n",
    "\n",
    "def getInputData(filename):\n",
    "    _data = np.genfromtxt(filename, delimiter = ',')\n",
    "    _X = _data[1:, 1:12] # variable numbers are 11\n",
    "    _Y = _data[1:, 12]  # column for label data\n",
    "    return _X, _Y    \n",
    "\n",
    "if __name__ == '__main__':\n",
    "\n",
    "    input_file = ''\n",
    "    output_file = ''\n",
    "    \n",
    "    if len(sys.argv) < 2 : \n",
    "        print('Usage of Linear Regression: %s input_matrix.dat output.txt '%(sys.argv[0]))\n",
    "        print('    input_matrix is the input variable matrix.')\n",
    "        print('    output.txt will output weights for each dimensions')\n",
    "\n",
    "    else:\n",
    "        input_file = sys.argv[1] if len(sys.argv) > 1 else INPUT_FILE\n",
    "        output_file = sys.argv[2] if len(sys.argv) > 2 else OUTPUT_FILE\n",
    "        \n",
    "    \n",
    "    X, Y = getInputData(\"summarize2.csv\") #Get column 1,2 as X, column 3 as Z\n",
    "    \n",
    "    lr = LinearRegression(normalize = False)\n",
    " \n",
    "    lr.fit(X, Y)\n",
    "    print(str(lr.get_params))\n",
    "    score = lr.score(X, Y)    \n",
    "    W = lr.coef_\n",
    "    print('score =', score)\n",
    "    print ('W=', W )"
   ]
  },
  {
   "cell_type": "markdown",
   "metadata": {},
   "source": [
    "### Offer prediction for Food Security Index"
   ]
  },
  {
   "cell_type": "code",
   "execution_count": 7,
   "metadata": {
    "collapsed": false
   },
   "outputs": [
    {
     "name": "stdout",
     "output_type": "stream",
     "text": [
      "Prediction:[ 6.32979243  6.49549067  6.43982291  6.25310746  6.9372728   6.49451374\n",
      "  5.9079603   5.67032199  5.80827114  4.93411603  5.20784129  9.64012428\n",
      "  9.33136497]\n"
     ]
    }
   ],
   "source": [
    "New_Y = lr.predict(X)\n",
    "print('Prediction:%s'%(New_Y))"
   ]
  }
 ],
 "metadata": {
  "kernelspec": {
   "display_name": "Python 2",
   "language": "python",
   "name": "python2"
  },
  "language_info": {
   "codemirror_mode": {
    "name": "ipython",
    "version": 2
   },
   "file_extension": ".py",
   "mimetype": "text/x-python",
   "name": "python",
   "nbconvert_exporter": "python",
   "pygments_lexer": "ipython2",
   "version": "2.7.12"
  }
 },
 "nbformat": 4,
 "nbformat_minor": 2
}
